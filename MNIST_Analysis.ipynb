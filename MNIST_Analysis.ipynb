{
  "nbformat": 4,
  "nbformat_minor": 0,
  "metadata": {
    "colab": {
      "provenance": []
    },
    "kernelspec": {
      "name": "python3",
      "display_name": "Python 3"
    },
    "language_info": {
      "name": "python"
    },
    "accelerator": "GPU",
    "gpuClass": "standard"
  },
  "cells": [
    {
      "cell_type": "code",
      "execution_count": 1,
      "metadata": {
        "id": "O40KHu0vGM5_"
      },
      "outputs": [],
      "source": [
        "import numpy as np\n",
        "import keras\n",
        "import pandas as pd\n",
        "import matplotlib.pyplot as plt\n",
        "from keras.datasets import mnist\n",
        "from keras.models import Model\n",
        "from keras.layers import Dense, Input\n",
        "from keras.layers import Conv2D, MaxPooling2D, Dropout, Flatten\n",
        "from keras import backend as k"
      ]
    },
    {
      "cell_type": "code",
      "source": [
        "print(mnist)"
      ],
      "metadata": {
        "colab": {
          "base_uri": "https://localhost:8080/"
        },
        "id": "xrAy9Gp4HH54",
        "outputId": "3fd69db1-f70d-4913-ee5b-c4a58ea7332b"
      },
      "execution_count": 2,
      "outputs": [
        {
          "output_type": "stream",
          "name": "stdout",
          "text": [
            "<module 'keras.datasets.mnist' from '/usr/local/lib/python3.8/dist-packages/keras/datasets/mnist.py'>\n"
          ]
        }
      ]
    },
    {
      "cell_type": "code",
      "source": [
        "(x_train, y_train),(x_test,y_test) = mnist.load_data()\n",
        "x_train.shape"
      ],
      "metadata": {
        "id": "9lHgPrxMHNK1",
        "colab": {
          "base_uri": "https://localhost:8080/"
        },
        "outputId": "e917da5b-6e55-4dee-bdfd-3620b07dc578"
      },
      "execution_count": 3,
      "outputs": [
        {
          "output_type": "stream",
          "name": "stdout",
          "text": [
            "Downloading data from https://storage.googleapis.com/tensorflow/tf-keras-datasets/mnist.npz\n",
            "11490434/11490434 [==============================] - 0s 0us/step\n"
          ]
        },
        {
          "output_type": "execute_result",
          "data": {
            "text/plain": [
              "(60000, 28, 28)"
            ]
          },
          "metadata": {},
          "execution_count": 3
        }
      ]
    },
    {
      "cell_type": "code",
      "source": [
        "img_rows, img_cols = 28, 28\n",
        "\n",
        "if k.image_data_format() == 'channels_first':\n",
        "  x_train = x_train.reshape(x_train.shape[0],1,img_rows,img_cols)\n",
        "  x_test = x_test.reshape(x_test.shape[0],1,img_rows,img_cols)\n",
        "  inpx = (1,img_rows,img_cols)\n",
        "\n",
        "else:\n",
        "  x_train = x_train.reshape(x_train.shape[0], img_rows, img_cols, 1)\n",
        "  x_test = x_test.reshape(x_test.shape[0],img_rows,img_cols,1)\n",
        "  inpx = (img_rows, img_cols, 1)\n",
        "\n",
        "x_train = x_train.astype('float32')\n",
        "x_test = x_test.astype('float32')\n",
        "\n",
        "x_train /= 255\n",
        "x_test /= 255"
      ],
      "metadata": {
        "id": "SlKRwphRIEjT"
      },
      "execution_count": 4,
      "outputs": []
    },
    {
      "cell_type": "code",
      "source": [
        "# Convert a class vector to a binary class matrix\n",
        "y_train = keras.utils.to_categorical(y_train)\n",
        "y_test = keras.utils.to_categorical(y_test)\n",
        "\n",
        "y_train.shape"
      ],
      "metadata": {
        "id": "890ywVz5PpDO",
        "colab": {
          "base_uri": "https://localhost:8080/"
        },
        "outputId": "2aad99f8-6566-40ee-9d6d-7a72a29b80d5"
      },
      "execution_count": 5,
      "outputs": [
        {
          "output_type": "execute_result",
          "data": {
            "text/plain": [
              "(60000, 10)"
            ]
          },
          "metadata": {},
          "execution_count": 5
        }
      ]
    },
    {
      "cell_type": "code",
      "source": [
        "# Building the CNN model\n",
        "inpx = Input(shape=inpx)\n",
        "layer1 = Conv2D(32, kernel_size=(3,3), activation = 'relu')(inpx)\n",
        "layer2 = Conv2D(64, (3,3), activation = 'relu')(layer1)\n",
        "layer3 = MaxPooling2D(pool_size=(3,3))(layer2)\n",
        "layer4 = Dropout(0.5)(layer3)\n",
        "layer5 = Flatten()(layer4)\n",
        "layer6 = Dense(250, activation ='sigmoid')(layer5)\n",
        "layer7 = Dense(10, activation='softmax')(layer6)"
      ],
      "metadata": {
        "id": "YYH_D9BqhWHs"
      },
      "execution_count": 6,
      "outputs": []
    },
    {
      "cell_type": "code",
      "source": [
        "model = Model([inpx],layer7)\n",
        "model.compile(optimizer = keras.optimizers.Adadelta(),\n",
        "              loss = keras.losses.categorical_crossentropy,\n",
        "              metrics = ['accuracy'])\n",
        "\n",
        "model.fit(x_train, y_train, epochs=50, batch_size = 20)"
      ],
      "metadata": {
        "colab": {
          "base_uri": "https://localhost:8080/"
        },
        "id": "I0DPebjLnkXq",
        "outputId": "31949b94-8ef3-4c7c-854c-9edb6964baa6"
      },
      "execution_count": 8,
      "outputs": [
        {
          "output_type": "stream",
          "name": "stdout",
          "text": [
            "Epoch 1/50\n",
            "3000/3000 [==============================] - 10s 3ms/step - loss: 2.1493 - accuracy: 0.4617\n",
            "Epoch 2/50\n",
            "3000/3000 [==============================] - 10s 3ms/step - loss: 1.9587 - accuracy: 0.6161\n",
            "Epoch 3/50\n",
            "3000/3000 [==============================] - 10s 3ms/step - loss: 1.6752 - accuracy: 0.6798\n",
            "Epoch 4/50\n",
            "3000/3000 [==============================] - 10s 3ms/step - loss: 1.3420 - accuracy: 0.7261\n",
            "Epoch 5/50\n",
            "3000/3000 [==============================] - 10s 3ms/step - loss: 1.0779 - accuracy: 0.7546\n",
            "Epoch 6/50\n",
            "3000/3000 [==============================] - 10s 3ms/step - loss: 0.9107 - accuracy: 0.7753\n",
            "Epoch 7/50\n",
            "3000/3000 [==============================] - 10s 3ms/step - loss: 0.8081 - accuracy: 0.7898\n",
            "Epoch 8/50\n",
            "3000/3000 [==============================] - 10s 3ms/step - loss: 0.7382 - accuracy: 0.8040\n",
            "Epoch 9/50\n",
            "3000/3000 [==============================] - 10s 3ms/step - loss: 0.6891 - accuracy: 0.8122\n",
            "Epoch 10/50\n",
            "3000/3000 [==============================] - 10s 3ms/step - loss: 0.6511 - accuracy: 0.8220\n",
            "Epoch 11/50\n",
            "3000/3000 [==============================] - 10s 3ms/step - loss: 0.6221 - accuracy: 0.8297\n",
            "Epoch 12/50\n",
            "3000/3000 [==============================] - 10s 3ms/step - loss: 0.5976 - accuracy: 0.8347\n",
            "Epoch 13/50\n",
            "3000/3000 [==============================] - 10s 3ms/step - loss: 0.5784 - accuracy: 0.8389\n",
            "Epoch 14/50\n",
            "3000/3000 [==============================] - 10s 3ms/step - loss: 0.5599 - accuracy: 0.8445\n",
            "Epoch 15/50\n",
            "3000/3000 [==============================] - 10s 3ms/step - loss: 0.5438 - accuracy: 0.8476\n",
            "Epoch 16/50\n",
            "3000/3000 [==============================] - 10s 3ms/step - loss: 0.5306 - accuracy: 0.8525\n",
            "Epoch 17/50\n",
            "3000/3000 [==============================] - 10s 3ms/step - loss: 0.5166 - accuracy: 0.8554\n",
            "Epoch 18/50\n",
            "3000/3000 [==============================] - 10s 3ms/step - loss: 0.5071 - accuracy: 0.8576\n",
            "Epoch 19/50\n",
            "3000/3000 [==============================] - 10s 3ms/step - loss: 0.4975 - accuracy: 0.8609\n",
            "Epoch 20/50\n",
            "3000/3000 [==============================] - 10s 3ms/step - loss: 0.4887 - accuracy: 0.8620\n",
            "Epoch 21/50\n",
            "3000/3000 [==============================] - 10s 3ms/step - loss: 0.4814 - accuracy: 0.8648\n",
            "Epoch 22/50\n",
            "3000/3000 [==============================] - 10s 3ms/step - loss: 0.4712 - accuracy: 0.8665\n",
            "Epoch 23/50\n",
            "3000/3000 [==============================] - 10s 3ms/step - loss: 0.4621 - accuracy: 0.8700\n",
            "Epoch 24/50\n",
            "3000/3000 [==============================] - 10s 3ms/step - loss: 0.4570 - accuracy: 0.8705\n",
            "Epoch 25/50\n",
            "3000/3000 [==============================] - 10s 3ms/step - loss: 0.4494 - accuracy: 0.8721\n",
            "Epoch 26/50\n",
            "3000/3000 [==============================] - 10s 3ms/step - loss: 0.4444 - accuracy: 0.8731\n",
            "Epoch 27/50\n",
            "3000/3000 [==============================] - 10s 3ms/step - loss: 0.4401 - accuracy: 0.8765\n",
            "Epoch 28/50\n",
            "3000/3000 [==============================] - 10s 3ms/step - loss: 0.4334 - accuracy: 0.8770\n",
            "Epoch 29/50\n",
            "3000/3000 [==============================] - 10s 3ms/step - loss: 0.4277 - accuracy: 0.8783\n",
            "Epoch 30/50\n",
            "3000/3000 [==============================] - 10s 3ms/step - loss: 0.4220 - accuracy: 0.8796\n",
            "Epoch 31/50\n",
            "3000/3000 [==============================] - 10s 3ms/step - loss: 0.4166 - accuracy: 0.8816\n",
            "Epoch 32/50\n",
            "3000/3000 [==============================] - 10s 3ms/step - loss: 0.4150 - accuracy: 0.8810\n",
            "Epoch 33/50\n",
            "3000/3000 [==============================] - 10s 3ms/step - loss: 0.4094 - accuracy: 0.8836\n",
            "Epoch 34/50\n",
            "3000/3000 [==============================] - 10s 3ms/step - loss: 0.4017 - accuracy: 0.8864\n",
            "Epoch 35/50\n",
            "3000/3000 [==============================] - 10s 3ms/step - loss: 0.3976 - accuracy: 0.8866\n",
            "Epoch 36/50\n",
            "3000/3000 [==============================] - 10s 3ms/step - loss: 0.3963 - accuracy: 0.8873\n",
            "Epoch 37/50\n",
            "3000/3000 [==============================] - 10s 3ms/step - loss: 0.3927 - accuracy: 0.8885\n",
            "Epoch 38/50\n",
            "3000/3000 [==============================] - 10s 3ms/step - loss: 0.3884 - accuracy: 0.8882\n",
            "Epoch 39/50\n",
            "3000/3000 [==============================] - 10s 3ms/step - loss: 0.3858 - accuracy: 0.8888\n",
            "Epoch 40/50\n",
            "3000/3000 [==============================] - 10s 3ms/step - loss: 0.3804 - accuracy: 0.8902\n",
            "Epoch 41/50\n",
            "3000/3000 [==============================] - 10s 3ms/step - loss: 0.3765 - accuracy: 0.8929\n",
            "Epoch 42/50\n",
            "3000/3000 [==============================] - 10s 3ms/step - loss: 0.3744 - accuracy: 0.8925\n",
            "Epoch 43/50\n",
            "3000/3000 [==============================] - 10s 3ms/step - loss: 0.3703 - accuracy: 0.8934\n",
            "Epoch 44/50\n",
            "3000/3000 [==============================] - 10s 3ms/step - loss: 0.3667 - accuracy: 0.8956\n",
            "Epoch 45/50\n",
            "3000/3000 [==============================] - 10s 3ms/step - loss: 0.3643 - accuracy: 0.8961\n",
            "Epoch 46/50\n",
            "3000/3000 [==============================] - 11s 4ms/step - loss: 0.3620 - accuracy: 0.8957\n",
            "Epoch 47/50\n",
            "3000/3000 [==============================] - 10s 3ms/step - loss: 0.3577 - accuracy: 0.8980\n",
            "Epoch 48/50\n",
            "3000/3000 [==============================] - 10s 3ms/step - loss: 0.3552 - accuracy: 0.8976\n",
            "Epoch 49/50\n",
            "3000/3000 [==============================] - 10s 3ms/step - loss: 0.3507 - accuracy: 0.8993\n",
            "Epoch 50/50\n",
            "3000/3000 [==============================] - 10s 3ms/step - loss: 0.3473 - accuracy: 0.8995\n"
          ]
        },
        {
          "output_type": "execute_result",
          "data": {
            "text/plain": [
              "<keras.callbacks.History at 0x7f76365cb850>"
            ]
          },
          "metadata": {},
          "execution_count": 8
        }
      ]
    },
    {
      "cell_type": "code",
      "source": [
        "score = model.evaluate(x_test, y_test, verbose=0)\n",
        "print('loss=', score[0])\n",
        "print('accuracy=', score[1])"
      ],
      "metadata": {
        "colab": {
          "base_uri": "https://localhost:8080/"
        },
        "id": "e6CMgfkuKSJk",
        "outputId": "ba3762b0-bb99-4341-c344-c8167bc610a6"
      },
      "execution_count": 9,
      "outputs": [
        {
          "output_type": "stream",
          "name": "stdout",
          "text": [
            "loss= 0.2698909640312195\n",
            "accuracy= 0.9208999872207642\n"
          ]
        }
      ]
    },
    {
      "cell_type": "code",
      "source": [],
      "metadata": {
        "id": "rJSI_XU3imk7"
      },
      "execution_count": null,
      "outputs": []
    }
  ]
}